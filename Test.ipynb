{
 "cells": [
  {
   "cell_type": "code",
   "execution_count": 89,
   "metadata": {},
   "outputs": [],
   "source": [
    "import torch \n",
    "import torch.nn as nn\n",
    "from parseq.system import System\n",
    "import yaml\n",
    "import cv2\n",
    "from parseq.augmentation import trans\n",
    "import PIL\n",
    "import imgaug\n",
    "import torchvision\n",
    "from wpodnet.lib_detection import load_model_wpod, detect_lp\n",
    "import numpy as np\n",
    "import gradio as gr \n",
    "import tensorflow as tf\n",
    "from tensorflow import keras\n",
    "import timm\n",
    "import pytorch_lightning as pl"
   ]
  },
  {
   "cell_type": "code",
   "execution_count": 91,
   "metadata": {},
   "outputs": [
    {
     "name": "stdout",
     "output_type": "stream",
     "text": [
      "tensorflow==2.13.1\n",
      "torch==2.4.1+cu118\n",
      "gradio==4.44.1\n",
      "timm==1.0.9\n",
      "PIL==10.2.0\n",
      "imgaug==0.4.0\n",
      "opencv-python==4.10.0\n",
      "torchvision==0.19.1+cu118\n"
     ]
    }
   ],
   "source": [
    "print(f'tensorflow=={tf.__version__}')\n",
    "print(f'torch=={torch.__version__}')\n",
    "print(f'gradio=={gr.__version__}')\n",
    "print(f'timm=={timm.__version__}')\n",
    "print(f'PIL=={PIL.__version__}')\n",
    "print(f'imgaug=={imgaug.__version__}')\n",
    "print(f'opencv-python=={cv2.__version__}')\n",
    "print(f'torchvision=={torchvision.__version__}')"
   ]
  }
 ],
 "metadata": {
  "kernelspec": {
   "display_name": "virtual",
   "language": "python",
   "name": "python3"
  },
  "language_info": {
   "codemirror_mode": {
    "name": "ipython",
    "version": 3
   },
   "file_extension": ".py",
   "mimetype": "text/x-python",
   "name": "python",
   "nbconvert_exporter": "python",
   "pygments_lexer": "ipython3",
   "version": "3.10.0"
  }
 },
 "nbformat": 4,
 "nbformat_minor": 2
}
